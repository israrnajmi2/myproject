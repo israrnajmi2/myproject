{
 "cells": [
  {
   "cell_type": "code",
   "execution_count": 1,
   "metadata": {},
   "outputs": [
    {
     "name": "stdout",
     "output_type": "stream",
     "text": [
      "12.0 kilometer is equal to 7.4564520000000005 miles\n"
     ]
    }
   ],
   "source": [
    "##6 Kilometer to miles\n",
    "km = float(input('Enter the distance in kilometer'))\n",
    "conversion_factor = 0.621371\n",
    "miles = km*conversion_factor\n",
    "print(f'{km} kilometer is equal to {miles} miles')"
   ]
  },
  {
   "cell_type": "code",
   "execution_count": 2,
   "metadata": {},
   "outputs": [
    {
     "name": "stdout",
     "output_type": "stream",
     "text": [
      "22.0 celcius in foriegnhieght is eual to 131.0\n"
     ]
    }
   ],
   "source": [
    "##7 celsious to forignhieght\n",
    "Celsius = float(input('Enter the temperature in Celsius'))\n",
    "foriegnhieght = (Celsius*9/2)+32\n",
    "print(f'{Celsius} celcius in foriegnhieght is eual to {foriegnhieght}')"
   ]
  },
  {
   "cell_type": "code",
   "execution_count": null,
   "metadata": {},
   "outputs": [],
   "source": [
    "##8 Display Calendar\n",
    "import calendar\n",
    "year = int(input('Enter Year'))\n",
    "month = int(input('Enter month'))\n",
    "cal = calendar.month(year,month)\n",
    "print(cal)"
   ]
  },
  {
   "cell_type": "markdown",
   "metadata": {},
   "source": []
  },
  {
   "cell_type": "code",
   "execution_count": null,
   "metadata": {},
   "outputs": [],
   "source": [
    "##9 Python for quadratic equetion\n"
   ]
  }
 ],
 "metadata": {
  "kernelspec": {
   "display_name": "Python (venv)",
   "language": "python",
   "name": "venv"
  },
  "language_info": {
   "codemirror_mode": {
    "name": "ipython",
    "version": 3
   },
   "file_extension": ".py",
   "mimetype": "text/x-python",
   "name": "python",
   "nbconvert_exporter": "python",
   "pygments_lexer": "ipython3",
   "version": "3.7.0"
  }
 },
 "nbformat": 4,
 "nbformat_minor": 2
}
