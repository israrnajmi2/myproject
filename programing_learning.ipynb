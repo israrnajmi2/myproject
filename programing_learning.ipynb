{
 "cells": [
  {
   "cell_type": "code",
   "execution_count": 1,
   "metadata": {},
   "outputs": [
    {
     "name": "stdout",
     "output_type": "stream",
     "text": [
      "hello world\n"
     ]
    }
   ],
   "source": [
    "##prog 1\n",
    "print('hello world')"
   ]
  },
  {
   "cell_type": "code",
   "execution_count": 12,
   "metadata": {},
   "outputs": [
    {
     "name": "stdout",
     "output_type": "stream",
     "text": [
      "sum: 5.0+5.0 = 10.0\n",
      "10.0\n"
     ]
    }
   ],
   "source": [
    "## 2 Addition\n",
    "num1 = float(input('Enter the First numbere'))\n",
    "num2 = float(input('Enter the Seconed Number'))\n",
    "sum_result = num1+num2\n",
    "print(f\"sum: {num1}+{num2} = {sum_result}\")\n",
    "print(sum_result)"
   ]
  },
  {
   "cell_type": "code",
   "execution_count": 13,
   "metadata": {},
   "outputs": [
    {
     "name": "stdout",
     "output_type": "stream",
     "text": [
      "sub: 6.0-4.0 = 2.0\n",
      "2.0\n"
     ]
    }
   ],
   "source": [
    "## 3 Subtraction\n",
    "num3 =float(input('Enter the Third Number'))\n",
    "num4 =float(input('Enter the fourth number'))\n",
    "sub_result = num3-num4\n",
    "print(f'sub: {num3}-{num4} = {sub_result}')\n",
    "print(sub_result)"
   ]
  },
  {
   "cell_type": "code",
   "execution_count": 17,
   "metadata": {},
   "outputs": [
    {
     "name": "stdout",
     "output_type": "stream",
     "text": [
      "Devision: 5.0/5.0 = 1.0\n"
     ]
    }
   ],
   "source": [
    "## 4 Devision\n",
    "num5= float(input('Enter the fifth number'))\n",
    "num6 = float(input('Enter the sixth number'))\n",
    "if num6 ==0:\n",
    "        print('Error: Devision by zero is not allowed')\n",
    "else:\n",
    "    dev_result = num5/num6\n",
    "print(f\"Devision: {num5}/{num6} = {dev_result}\")\n",
    "\n"
   ]
  },
  {
   "cell_type": "code",
   "execution_count": 18,
   "metadata": {},
   "outputs": [
    {
     "name": "stdout",
     "output_type": "stream",
     "text": [
      "The area of atiangle is 12.5\n"
     ]
    }
   ],
   "source": [
    "## 5 Area of tri Angle\n",
    "base = float(input('Enter the hieght'))\n",
    "height =float(input('Enter the hieght of triangle'))\n",
    "area = 0.5*base*height\n",
    "print(f'The area of atiangle is {area}')"
   ]
  },
  {
   "cell_type": "code",
   "execution_count": 19,
   "metadata": {},
   "outputs": [
    {
     "name": "stdout",
     "output_type": "stream",
     "text": [
      "orignal values: a= 5,b= 6\n",
      "Swapped Valyes: a = 6, b= 5\n"
     ]
    }
   ],
   "source": [
    "## 6 Swapping\n",
    "a = input('Enter the value of first variable (a):')\n",
    "b= input('Enter the value of variable (b):')\n",
    "print(f'orignal values: a= {a},b= {b}')\n",
    "\n",
    "temp = a\n",
    "a= b\n",
    "b = temp\n",
    "print(f'Swapped Valyes: a = {a}, b= {b}')\n"
   ]
  },
  {
   "cell_type": "code",
   "execution_count": 21,
   "metadata": {},
   "outputs": [
    {
     "name": "stdout",
     "output_type": "stream",
     "text": [
      "Random number is: 730\n"
     ]
    }
   ],
   "source": [
    "## 7 random Number\n",
    "import random\n",
    "print(f'Random number is: {random.randint(1,1000)}')\n"
   ]
  },
  {
   "cell_type": "code",
   "execution_count": null,
   "metadata": {},
   "outputs": [],
   "source": [
    "##8 Kilometer to miles\n",
    "km = float(input('Enter the distance in kilometer'))\n",
    "conversion_factor = 0.621371\n",
    "miles = km*conversion_factor\n",
    "print(f'{km} kilometer is equal to {miles} miles')"
   ]
  },
  {
   "cell_type": "markdown",
   "metadata": {},
   "source": []
  },
  {
   "cell_type": "code",
   "execution_count": null,
   "metadata": {},
   "outputs": [
    {
     "name": "stdout",
     "output_type": "stream",
     "text": [
      "22.0 celcius in foriegnhieght is eual to 131.0\n"
     ]
    }
   ],
   "source": [
    "##9 celsious to forignhieght\n",
    "Celsius = float(input('Enter the temperature in Celsius'))\n",
    "foriegnhieght = (Celsius*9/2)+32\n",
    "print(f'{Celsius} celcius in foriegnhieght is eual to {foriegnhieght}')"
   ]
  },
  {
   "cell_type": "code",
   "execution_count": null,
   "metadata": {},
   "outputs": [],
   "source": [
    "##10 Display Calendar\n",
    "import calendar\n",
    "year = int(input('Enter Year'))\n",
    "month = int(input('Enter month'))\n",
    "cal = calendar.month(year,month)\n",
    "print(cal)"
   ]
  },
  {
   "cell_type": "code",
   "execution_count": 9,
   "metadata": {},
   "outputs": [
    {
     "name": "stdout",
     "output_type": "stream",
     "text": [
      "root 1: 0.0\n",
      "root 2: -1.0\n"
     ]
    }
   ],
   "source": [
    "##13 Quadric Formula\n",
    "##input coefficients\n",
    "import math\n",
    "a = float(input(\"Enter coeffecient a\"))\n",
    "b= float(input('Enter the coefficient of b'))\n",
    "c = float(input('enter coefficient c'))\n",
    "###Calculate descrimenent\n",
    "discriminant = b**2-4*a*c\n",
    "if discriminant > 0:\n",
    "    root1 =(-b+math.sqrt(discriminant))/(2*a)\n",
    "    root2 =(-b-math.sqrt(discriminant))/(2*a)\n",
    "    print(f'root 1: {root1}')\n",
    "    print(f'root 2: {root2}')\n",
    "elif discriminant==0:\n",
    "    root = -b/(2*a)\n",
    "    print(f'root : {root}')\n",
    "else:\n",
    "    real_part = -b/(2*a)\n",
    "    imaginary_part = math.sqrt(abs(discriminant))/(2*a)\n",
    "    print(f'root 1: {real_part}+{imaginary_part}i')\n",
    "    print(f'root 2: {real_part}-{imaginary_part}i')\n",
    "\n",
    "\n",
    "\n",
    "\n",
    "\n"
   ]
  },
  {
   "cell_type": "code",
   "execution_count": 1,
   "metadata": {},
   "outputs": [
    {
     "name": "stdout",
     "output_type": "stream",
     "text": [
      "After Swaping\n",
      "a= 10\n",
      "b = 5\n"
     ]
    }
   ],
   "source": [
    "13 ##swaping Without temp\n",
    "a = 5 \n",
    "b= 10\n",
    "a,b=b,a\n",
    "print('After Swaping')\n",
    "print('a=',a)\n",
    "print('b =',b)"
   ]
  },
  {
   "cell_type": "code",
   "execution_count": 4,
   "metadata": {},
   "outputs": [
    {
     "name": "stdout",
     "output_type": "stream",
     "text": [
      "Negative number\n"
     ]
    }
   ],
   "source": [
    "##14 Positive Number\n",
    "num = float(input('Enter any number'))\n",
    "if num>0:\n",
    "    print('positive number')\n",
    "elif num==0:\n",
    "    print('Zero')\n",
    "else:\n",
    "    print('Negative number')\n"
   ]
  },
  {
   "cell_type": "code",
   "execution_count": 3,
   "metadata": {},
   "outputs": [
    {
     "name": "stdout",
     "output_type": "stream",
     "text": [
      "This is odd number \n"
     ]
    }
   ],
   "source": [
    "####15 Even & Odd number Sepration\n",
    "num = float(input('Enter the number'))\n",
    "if num%2==0:\n",
    "    print (\"This is even number\")\n",
    "else:\n",
    "    print('This is odd number ')"
   ]
  },
  {
   "cell_type": "code",
   "execution_count": 2,
   "metadata": {},
   "outputs": [
    {
     "name": "stdout",
     "output_type": "stream",
     "text": [
      "2024 is a Leap year\n"
     ]
    }
   ],
   "source": [
    "16##Leap Year\n",
    "year = int(input('Enter the year: '))\n",
    "\n",
    "# Check if the year is a leap year\n",
    "if (year % 4 == 0 and year % 100 != 0) or (year % 400 == 0):\n",
    "    print('{0} is a Leap year'.format(year))\n",
    "else:\n",
    "    print('{0} is not a Leap year'.format(year))\n"
   ]
  },
  {
   "cell_type": "code",
   "execution_count": null,
   "metadata": {},
   "outputs": [],
   "source": [
    "def add(x, y):\n",
    "    return x + y\n",
    "\n",
    "def subtract(x, y):\n",
    "    return x - y\n",
    "\n",
    "def multiply(x, y):\n",
    "    return x * y\n",
    "\n",
    "def divide(x, y):\n",
    "    if y == 0:\n",
    "        return \"Error! Division by zero.\"\n",
    "    else:\n",
    "        return x / y\n",
    "\n",
    "def calculator():\n",
    "    while True:\n",
    "        print(\"\\nOptions:\")\n",
    "        print(\"1. Add\")\n",
    "        print(\"2. Subtract\")\n",
    "        print(\"3. Multiply\")\n",
    "        print(\"4. Divide\")\n",
    "        print(\"5. Exit\")\n",
    "        \n",
    "        choice = input(\"Select an operation (1/2/3/4/5): \")\n",
    "\n",
    "        if choice == '5':\n",
    "            print(\"Exiting the calculator. Goodbye!\")\n",
    "            break\n",
    "        \n",
    "        num1 = float(input(\"Enter the first number: \"))\n",
    "        num2 = float(input(\"Enter the second number: \"))\n",
    "\n",
    "        if choice == '1':\n",
    "            print(f\"Result: {num1} + {num2} = {add(num1, num2)}\")\n",
    "        elif choice == '2':\n",
    "            print(f\"Result: {num1} - {num2} = {subtract(num1, num2)}\")\n",
    "        elif choice == '3':\n",
    "            print(f\"Result: {num1} * {num2} = {multiply(num1, num2)}\")\n",
    "        elif choice == '4':\n",
    "            print(f\"Result: {num1} / {num2} = {divide(num1, num2)}\")\n",
    "        else:\n",
    "            print(\"Invalid input. Please choose a valid option.\")\n",
    "            \n",
    "# Run the calculator\n",
    "calculator()\n"
   ]
  }
 ],
 "metadata": {
  "kernelspec": {
   "display_name": "venv",
   "language": "python",
   "name": "python3"
  },
  "language_info": {
   "codemirror_mode": {
    "name": "ipython",
    "version": 3
   },
   "file_extension": ".py",
   "mimetype": "text/x-python",
   "name": "python",
   "nbconvert_exporter": "python",
   "pygments_lexer": "ipython3",
   "version": "3.7.0"
  }
 },
 "nbformat": 4,
 "nbformat_minor": 2
}
