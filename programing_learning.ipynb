{
 "cells": [
  {
   "cell_type": "code",
   "execution_count": 1,
   "metadata": {},
   "outputs": [
    {
     "name": "stdout",
     "output_type": "stream",
     "text": [
      "hello world\n"
     ]
    }
   ],
   "source": [
    "##prog 1\n",
    "print('hello world')"
   ]
  },
  {
   "cell_type": "code",
   "execution_count": 12,
   "metadata": {},
   "outputs": [
    {
     "name": "stdout",
     "output_type": "stream",
     "text": [
      "sum: 5.0+5.0 = 10.0\n",
      "10.0\n"
     ]
    }
   ],
   "source": [
    "## 2 Addition\n",
    "num1 = float(input('Enter the First numbere'))\n",
    "num2 = float(input('Enter the Seconed Number'))\n",
    "sum_result = num1+num2\n",
    "print(f\"sum: {num1}+{num2} = {sum_result}\")\n",
    "print(sum_result)"
   ]
  },
  {
   "cell_type": "code",
   "execution_count": 13,
   "metadata": {},
   "outputs": [
    {
     "name": "stdout",
     "output_type": "stream",
     "text": [
      "sub: 6.0-4.0 = 2.0\n",
      "2.0\n"
     ]
    }
   ],
   "source": [
    "## 3 Subtraction\n",
    "num3 =float(input('Enter the Third Number'))\n",
    "num4 =float(input('Enter the fourth number'))\n",
    "sub_result = num3-num4\n",
    "print(f'sub: {num3}-{num4} = {sub_result}')\n",
    "print(sub_result)"
   ]
  },
  {
   "cell_type": "code",
   "execution_count": 17,
   "metadata": {},
   "outputs": [
    {
     "name": "stdout",
     "output_type": "stream",
     "text": [
      "Devision: 5.0/5.0 = 1.0\n"
     ]
    }
   ],
   "source": [
    "## 4 Devision\n",
    "num5= float(input('Enter the fifth number'))\n",
    "num6 = float(input('Enter the sixth number'))\n",
    "if num6 ==0:\n",
    "        print('Error: Devision by zero is not allowed')\n",
    "else:\n",
    "    dev_result = num5/num6\n",
    "print(f\"Devision: {num5}/{num6} = {dev_result}\")\n",
    "\n"
   ]
  },
  {
   "cell_type": "code",
   "execution_count": 18,
   "metadata": {},
   "outputs": [
    {
     "name": "stdout",
     "output_type": "stream",
     "text": [
      "The area of atiangle is 12.5\n"
     ]
    }
   ],
   "source": [
    "## 5 Area of tri Angle\n",
    "base = float(input('Enter the hieght'))\n",
    "height =float(input('Enter the hieght of triangle'))\n",
    "area = 0.5*base*height\n",
    "print(f'The area of atiangle is {area}')"
   ]
  },
  {
   "cell_type": "code",
   "execution_count": 19,
   "metadata": {},
   "outputs": [
    {
     "name": "stdout",
     "output_type": "stream",
     "text": [
      "orignal values: a= 5,b= 6\n",
      "Swapped Valyes: a = 6, b= 5\n"
     ]
    }
   ],
   "source": [
    "## 6 Swapping\n",
    "a = input('Enter the value of first variable (a):')\n",
    "b= input('Enter the value of variable (b):')\n",
    "print(f'orignal values: a= {a},b= {b}')\n",
    "\n",
    "temp = a\n",
    "a= b\n",
    "b = temp\n",
    "print(f'Swapped Valyes: a = {a}, b= {b}')\n"
   ]
  },
  {
   "cell_type": "code",
   "execution_count": 21,
   "metadata": {},
   "outputs": [
    {
     "name": "stdout",
     "output_type": "stream",
     "text": [
      "Random number is: 730\n"
     ]
    }
   ],
   "source": [
    "## 7 random Number\n",
    "import random\n",
    "print(f'Random number is: {random.randint(1,1000)}')\n"
   ]
  },
  {
   "cell_type": "code",
   "execution_count": null,
   "metadata": {},
   "outputs": [],
   "source": [
    "##8 Kilometer to miles\n",
    "km = float(input('Enter the distance in kilometer'))\n",
    "conversion_factor = 0.621371\n",
    "miles = km*conversion_factor\n",
    "print(f'{km} kilometer is equal to {miles} miles')"
   ]
  },
  {
   "cell_type": "markdown",
   "metadata": {},
   "source": []
  },
  {
   "cell_type": "code",
   "execution_count": null,
   "metadata": {},
   "outputs": [
    {
     "name": "stdout",
     "output_type": "stream",
     "text": [
      "22.0 celcius in foriegnhieght is eual to 131.0\n"
     ]
    }
   ],
   "source": [
    "##9 celsious to forignhieght\n",
    "Celsius = float(input('Enter the temperature in Celsius'))\n",
    "foriegnhieght = (Celsius*9/2)+32\n",
    "print(f'{Celsius} celcius in foriegnhieght is eual to {foriegnhieght}')"
   ]
  },
  {
   "cell_type": "code",
   "execution_count": null,
   "metadata": {},
   "outputs": [],
   "source": [
    "##10 Display Calendar\n",
    "import calendar\n",
    "year = int(input('Enter Year'))\n",
    "month = int(input('Enter month'))\n",
    "cal = calendar.month(year,month)\n",
    "print(cal)"
   ]
  },
  {
   "cell_type": "code",
   "execution_count": 1,
   "metadata": {},
   "outputs": [
    {
     "name": "stdout",
     "output_type": "stream",
     "text": [
      "hello world\n"
     ]
    }
   ],
   "source": [
    "##12\n",
    "print('hello world')"
   ]
  },
  {
   "cell_type": "code",
   "execution_count": 1,
   "metadata": {},
   "outputs": [
    {
     "name": "stdout",
     "output_type": "stream",
     "text": [
      "i am a good boy\n"
     ]
    }
   ],
   "source": [
    "##13\n",
    "print('i am a good boy')"
   ]
  }
 ],
 "metadata": {
  "kernelspec": {
   "display_name": "venv",
   "language": "python",
   "name": "python3"
  },
  "language_info": {
   "codemirror_mode": {
    "name": "ipython",
    "version": 3
   },
   "file_extension": ".py",
   "mimetype": "text/x-python",
   "name": "python",
   "nbconvert_exporter": "python",
   "pygments_lexer": "ipython3",
   "version": "3.12.3"
  }
 },
 "nbformat": 4,
 "nbformat_minor": 2
}
