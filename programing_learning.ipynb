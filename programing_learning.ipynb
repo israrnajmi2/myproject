{
 "cells": [
  {
   "cell_type": "code",
   "execution_count": 1,
   "metadata": {},
   "outputs": [
    {
     "name": "stdout",
     "output_type": "stream",
     "text": [
      "hello world\n"
     ]
    }
   ],
   "source": [
    "##prog 1\n",
    "print('hello world')"
   ]
  },
  {
   "cell_type": "code",
   "execution_count": 12,
   "metadata": {},
   "outputs": [
    {
     "name": "stdout",
     "output_type": "stream",
     "text": [
      "sum: 5.0+5.0 = 10.0\n",
      "10.0\n"
     ]
    }
   ],
   "source": [
    "## 2 Addition\n",
    "num1 = float(input('Enter the First numbere'))\n",
    "num2 = float(input('Enter the Seconed Number'))\n",
    "sum_result = num1+num2\n",
    "print(f\"sum: {num1}+{num2} = {sum_result}\")\n",
    "print(sum_result)"
   ]
  },
  {
   "cell_type": "code",
   "execution_count": 13,
   "metadata": {},
   "outputs": [
    {
     "name": "stdout",
     "output_type": "stream",
     "text": [
      "sub: 6.0-4.0 = 2.0\n",
      "2.0\n"
     ]
    }
   ],
   "source": [
    "## 3 Subtraction\n",
    "num3 =float(input('Enter the Third Number'))\n",
    "num4 =float(input('Enter the fourth number'))\n",
    "sub_result = num3-num4\n",
    "print(f'sub: {num3}-{num4} = {sub_result}')\n",
    "print(sub_result)"
   ]
  },
  {
   "cell_type": "code",
   "execution_count": 17,
   "metadata": {},
   "outputs": [
    {
     "name": "stdout",
     "output_type": "stream",
     "text": [
      "Devision: 5.0/5.0 = 1.0\n"
     ]
    }
   ],
   "source": [
    "## 4 Devision\n",
    "num5= float(input('Enter the fifth number'))\n",
    "num6 = float(input('Enter the sixth number'))\n",
    "if num6 ==0:\n",
    "        print('Error: Devision by zero is not allowed')\n",
    "else:\n",
    "    dev_result = num5/num6\n",
    "print(f\"Devision: {num5}/{num6} = {dev_result}\")\n",
    "\n"
   ]
  },
  {
   "cell_type": "code",
   "execution_count": 18,
   "metadata": {},
   "outputs": [
    {
     "name": "stdout",
     "output_type": "stream",
     "text": [
      "The area of atiangle is 12.5\n"
     ]
    }
   ],
   "source": [
    "## 5 Area of tri Angle\n",
    "base = float(input('Enter the hieght'))\n",
    "height =float(input('Enter the hieght of triangle'))\n",
    "area = 0.5*base*height\n",
    "print(f'The area of atiangle is {area}')"
   ]
  },
  {
   "cell_type": "code",
   "execution_count": 19,
   "metadata": {},
   "outputs": [
    {
     "name": "stdout",
     "output_type": "stream",
     "text": [
      "orignal values: a= 5,b= 6\n",
      "Swapped Valyes: a = 6, b= 5\n"
     ]
    }
   ],
   "source": [
    "## 6 Swapping\n",
    "a = input('Enter the value of first variable (a):')\n",
    "b= input('Enter the value of variable (b):')\n",
    "print(f'orignal values: a= {a},b= {b}')\n",
    "\n",
    "temp = a\n",
    "a= b\n",
    "b = temp\n",
    "print(f'Swapped Valyes: a = {a}, b= {b}')\n"
   ]
  },
  {
   "cell_type": "code",
   "execution_count": 21,
   "metadata": {},
   "outputs": [
    {
     "name": "stdout",
     "output_type": "stream",
     "text": [
      "Random number is: 730\n"
     ]
    }
   ],
   "source": [
    "## 7 random Number\n",
    "import random\n",
    "print(f'Random number is: {random.randint(1,1000)}')\n"
   ]
  },
  {
   "cell_type": "code",
   "execution_count": null,
   "metadata": {},
   "outputs": [],
   "source": [
    "##8 Kilometer to miles\n",
    "km = float(input('Enter the distance in kilometer'))\n",
    "conversion_factor = 0.621371\n",
    "miles = km*conversion_factor\n",
    "print(f'{km} kilometer is equal to {miles} miles')"
   ]
  },
  {
   "cell_type": "markdown",
   "metadata": {},
   "source": []
  },
  {
   "cell_type": "code",
   "execution_count": null,
   "metadata": {},
   "outputs": [
    {
     "name": "stdout",
     "output_type": "stream",
     "text": [
      "22.0 celcius in foriegnhieght is eual to 131.0\n"
     ]
    }
   ],
   "source": [
    "##9 celsious to forignhieght\n",
    "Celsius = float(input('Enter the temperature in Celsius'))\n",
    "foriegnhieght = (Celsius*9/2)+32\n",
    "print(f'{Celsius} celcius in foriegnhieght is eual to {foriegnhieght}')"
   ]
  },
  {
   "cell_type": "code",
   "execution_count": null,
   "metadata": {},
   "outputs": [],
   "source": [
    "##10 Display Calendar\n",
    "import calendar\n",
    "year = int(input('Enter Year'))\n",
    "month = int(input('Enter month'))\n",
    "cal = calendar.month(year,month)\n",
    "print(cal)"
   ]
  },
  {
   "cell_type": "code",
   "execution_count": 9,
   "metadata": {},
   "outputs": [
    {
     "name": "stdout",
     "output_type": "stream",
     "text": [
      "root 1: 0.0\n",
      "root 2: -1.0\n"
     ]
    }
   ],
   "source": [
    "##13 Quadric Formula\n",
    "##input coefficients\n",
    "import math\n",
    "a = float(input(\"Enter coeffecient a\"))\n",
    "b= float(input('Enter the coefficient of b'))\n",
    "c = float(input('enter coefficient c'))\n",
    "###Calculate descrimenent\n",
    "discriminant = b**2-4*a*c\n",
    "if discriminant > 0:\n",
    "    root1 =(-b+math.sqrt(discriminant))/(2*a)\n",
    "    root2 =(-b-math.sqrt(discriminant))/(2*a)\n",
    "    print(f'root 1: {root1}')\n",
    "    print(f'root 2: {root2}')\n",
    "elif discriminant==0:\n",
    "    root = -b/(2*a)\n",
    "    print(f'root : {root}')\n",
    "else:\n",
    "    real_part = -b/(2*a)\n",
    "    imaginary_part = math.sqrt(abs(discriminant))/(2*a)\n",
    "    print(f'root 1: {real_part}+{imaginary_part}i')\n",
    "    print(f'root 2: {real_part}-{imaginary_part}i')\n",
    "\n",
    "\n",
    "\n",
    "\n",
    "\n"
   ]
  },
  {
   "cell_type": "code",
   "execution_count": 1,
   "metadata": {},
   "outputs": [
    {
     "name": "stdout",
     "output_type": "stream",
     "text": [
      "After Swaping\n",
      "a= 10\n",
      "b = 5\n"
     ]
    }
   ],
   "source": [
    "13 ##swaping Without temp\n",
    "a = 5 \n",
    "b= 10\n",
    "a,b=b,a\n",
    "print('After Swaping')\n",
    "print('a=',a)\n",
    "print('b =',b)"
   ]
  },
  {
   "cell_type": "code",
   "execution_count": 4,
   "metadata": {},
   "outputs": [
    {
     "name": "stdout",
     "output_type": "stream",
     "text": [
      "Negative number\n"
     ]
    }
   ],
   "source": [
    "##14 Positive Number\n",
    "num = float(input('Enter any number'))\n",
    "if num>0:\n",
    "    print('positive number')\n",
    "elif num==0:\n",
    "    print('Zero')\n",
    "else:\n",
    "    print('Negative number')\n"
   ]
  },
  {
   "cell_type": "code",
   "execution_count": null,
   "metadata": {},
   "outputs": [],
   "source": [
    "####15 Even & Odd number Sepration\n",
    "num = float(input('Enter the number'))\n",
    "if num%2==0:\n",
    "    print (\"This is even number\")\n",
    "else:\n",
    "    print('This is odd number ')"
   ]
  },
  {
   "cell_type": "code",
   "execution_count": 1,
   "metadata": {},
   "outputs": [
    {
     "name": "stdout",
     "output_type": "stream",
     "text": [
      "2023 is not a Leap year\n"
     ]
    }
   ],
   "source": [
    "16##Leap Year\n",
    "year = int(input('Enter the year: '))\n",
    "\n",
    "# Check if the year is a leap year\n",
    "if (year % 4 == 0 and year % 100 != 0) or (year % 400 == 0):\n",
    "    print('{0} is a Leap year'.format(year))\n",
    "else:\n",
    "    print('{0} is not a Leap year'.format(year))\n"
   ]
  },
  {
   "cell_type": "code",
   "execution_count": null,
   "metadata": {},
   "outputs": [],
   "source": [
    "##17 Calculator\n",
    "def add(x, y):\n",
    "    return x + y\n",
    "\n",
    "def subtract(x, y):\n",
    "    return x - y\n",
    "\n",
    "def multiply(x, y):\n",
    "    return x * y\n",
    "\n",
    "def divide(x, y):\n",
    "    if y == 0:\n",
    "        return \"Error! Division by zero.\"\n",
    "    else:\n",
    "        return x / y\n",
    "\n",
    "def calculator():\n",
    "    while True:\n",
    "        print(\"\\nOptions:\")\n",
    "        print(\"1. Add\")\n",
    "        print(\"2. Subtract\")\n",
    "        print(\"3. Multiply\")\n",
    "        print(\"4. Divide\")\n",
    "        print(\"5. Exit\")\n",
    "        \n",
    "        choice = input(\"Select an operation (1/2/3/4/5): \")\n",
    "\n",
    "        if choice == '5':\n",
    "            print(\"Exiting the calculator. Goodbye!\")\n",
    "            break\n",
    "        \n",
    "        num1 = float(input(\"Enter the first number: \"))\n",
    "        num2 = float(input(\"Enter the second number: \"))\n",
    "\n",
    "        if choice == '1':\n",
    "            print(f\"Result: {num1} + {num2} = {add(num1, num2)}\")\n",
    "        elif choice == '2':\n",
    "            print(f\"Result: {num1} - {num2} = {subtract(num1, num2)}\")\n",
    "        elif choice == '3':\n",
    "            print(f\"Result: {num1} * {num2} = {multiply(num1, num2)}\")\n",
    "        elif choice == '4':\n",
    "            print(f\"Result: {num1} / {num2} = {divide(num1, num2)}\")\n",
    "        else:\n",
    "            print(\"Invalid input. Please choose a valid option.\")\n",
    "            \n",
    "# Run the calculator\n",
    "calculator()\n"
   ]
  },
  {
   "cell_type": "code",
   "execution_count": 5,
   "metadata": {},
   "outputs": [
    {
     "name": "stdout",
     "output_type": "stream",
     "text": [
      "109,is a prime number\n"
     ]
    }
   ],
   "source": [
    "##18 To Find Prime number\n",
    "num =float(input('Enter the First '))\n",
    "flag = False\n",
    "if num.is_integer() and num>1:\n",
    "    num=int(num)\n",
    "    for i in range(2,num):\n",
    "        if (num%i)==0:\n",
    "            flag = True\n",
    "            break\n",
    "if flag:\n",
    "    print(f'{num}, is not a prime number') \n",
    "else:\n",
    "    print(f'{num},is a prime number')       \n"
   ]
  },
  {
   "cell_type": "code",
   "execution_count": null,
   "metadata": {},
   "outputs": [],
   "source": [
    "##19 Program For Table\n",
    "num =int (input('display the multyplication table:'))\n",
    "for i in range(1,11):\n",
    "    print(f'{num}X{i}={num*i}') \n",
    "\n"
   ]
  },
  {
   "cell_type": "code",
   "execution_count": null,
   "metadata": {},
   "outputs": [],
   "source": [
    "##20 Fiboconi Sequence\n",
    "nterms =int(input('How many terms?'))\n",
    "#first two terms\n",
    "n1,n2 =0,1\n",
    "count =0\n",
    "if nterms <=0:\n",
    "    print(\"Please enter a positive integer\")\n",
    "elif nterms ==1:\n",
    "    print(\"Fibonacci sequence upto\",nterms,\":\")\n",
    "    print(n1)\n",
    "else:\n",
    "    print(\"Fibonacci sequence upto:\")\n",
    "    while count<nterms:\n",
    "        print(n1)\n",
    "        nth =n1+n2\n",
    "        n1=n2\n",
    "        n2 =nth\n",
    "        count += 1\n",
    "        \n"
   ]
  },
  {
   "cell_type": "code",
   "execution_count": 5,
   "metadata": {},
   "outputs": [
    {
     "name": "stdout",
     "output_type": "stream",
     "text": [
      "22 is not  an ARmstrong Number.\n"
     ]
    }
   ],
   "source": [
    "##21 ArmStrong Number\n",
    "num = int(input(\"Enter a number\"))\n",
    "#calculate no of digits in the string\n",
    "num_str =str(num)\n",
    "num_digit = len(num_str)\n",
    "sum_of_powers =0 \n",
    "temp_num = num\n",
    "while temp_num>0:\n",
    "    digit =temp_num%10\n",
    "    sum_of_powers += digit**num_digit\n",
    "    temp_num //= 10.\n",
    "if sum_of_powers ==num:\n",
    "    print(f'{num} is an ARmstrong Number.')\n",
    "else:\n",
    "             print(f'{num} is not  an ARmstrong Number.')\n",
    "\n"
   ]
  },
  {
   "cell_type": "code",
   "execution_count": null,
   "metadata": {},
   "outputs": [],
   "source": [
    "##22 Armstrg No in an Interval\n",
    "lower = int(input('Enter the lower limit of interval:'))\n",
    "upper = int(input('Enter the upper limit of interval:'))\n",
    "for num in range (lower,upper +1):\n",
    "    order =len(str(num))\n",
    "    temp_num =num\n",
    "    sum=0\n",
    "    while temp_num >0:\n",
    "        digit =temp_num%10\n",
    "        sum += digit **order\n",
    "        temp_num //= 10\n",
    "        if num== sum:\n",
    "            print(num)"
   ]
  },
  {
   "cell_type": "code",
   "execution_count": 11,
   "metadata": {},
   "outputs": [
    {
     "name": "stdout",
     "output_type": "stream",
     "text": [
      "The sum of natural numbers upto 10 is: 55\n"
     ]
    }
   ],
   "source": [
    "#23 sum of Natural numbers\n",
    "limit = int(input(\"Enter the linit:\"))\n",
    "sum =0\n",
    "for i in range (1,limit+1):\n",
    "    sum+=i\n",
    "print('The sum of natural numbers upto',limit,'is:',sum)"
   ]
  },
  {
   "cell_type": "code",
   "execution_count": null,
   "metadata": {},
   "outputs": [],
   "source": [
    "##24\n",
    "# Initialize an empty to-do list\n",
    "todo_list = []\n",
    "\n",
    "# Function to display the menu\n",
    "def show_menu():\n",
    "    print(\"\\nMenu:\")\n",
    "    print(\"1. Add Task\")\n",
    "    print(\"2. View Tasks\")\n",
    "    print(\"3. Mark Task as Completed\")\n",
    "    print(\"4. Remove Task\")\n",
    "    print(\"5. Exit\")\n",
    "\n",
    "# Function to add a task\n",
    "def add_task():\n",
    "    task = input(\"Enter the task: \")\n",
    "    todo_list.append({\"task\": task, \"completed\": False})\n",
    "    print(f\"Task '{task}' added.\")\n",
    "\n",
    "# Function to view all tasks\n",
    "def view_tasks():\n",
    "    if not todo_list:\n",
    "        print(\"No tasks in the list.\")\n",
    "    else:\n",
    "        print(\"\\nTo-Do List:\")\n",
    "        for index, task_info in enumerate(todo_list):\n",
    "            status = \"Completed\" if task_info[\"completed\"] else \"Not Completed\"\n",
    "            print(f\"{index + 1}. {task_info['task']} - {status}\")\n",
    "\n",
    "# Function to mark a task as completed\n",
    "def mark_completed():\n",
    "    view_tasks()\n",
    "    task_num = int(input(\"Enter the task number to mark as completed: \")) - 1\n",
    "    if 0 <= task_num < len(todo_list):\n",
    "        todo_list[task_num][\"completed\"] = True\n",
    "        print(f\"Task '{todo_list[task_num]['task']}' marked as completed.\")\n",
    "    else:\n",
    "        print(\"Invalid task number.\")\n",
    "\n",
    "# Function to remove a task\n",
    "def remove_task():\n",
    "    view_tasks()\n",
    "    task_num = int(input(\"Enter the task number to remove: \")) - 1\n",
    "    if 0 <= task_num < len(todo_list):\n",
    "        removed_task = todo_list.pop(task_num)\n",
    "        print(f\"Task '{removed_task['task']}' removed.\")\n",
    "    else:\n",
    "        print(\"Invalid task number.\")\n",
    "\n",
    "# Main program loop\n",
    "while True:\n",
    "    show_menu()\n",
    "    choice = input(\"Enter your choice (1-5): \")\n",
    "    \n",
    "    if choice == '1':\n",
    "        add_task()\n",
    "    elif choice == '2':\n",
    "        view_tasks()\n",
    "    elif choice == '3':\n",
    "        mark_completed()\n",
    "    elif choice == '4':\n",
    "        remove_task()\n",
    "    elif choice == '5':\n",
    "        print(\"Exiting the program.\")\n",
    "        break\n",
    "    else:\n",
    "        print(\"Invalid choice. Please select a valid option.\")\n"
   ]
  },
  {
   "cell_type": "code",
   "execution_count": null,
   "metadata": {},
   "outputs": [],
   "source": []
  },
  {
   "cell_type": "code",
   "execution_count": null,
   "metadata": {},
   "outputs": [],
   "source": [
    "25##Function to Calculate grades\n",
    "def grade_calculator(students_score):\n",
    "    for students, score in students_score.items():\n",
    "        if score>=50:\n",
    "            print(f'{students}has passed with a score of {score}.')\n",
    "        else:\n",
    "            print(f'{students} has failed with a score {score}')\n",
    "\n",
    "# Sample input data: a dictionary of students and their scores\n",
    "students_scores ={\n",
    "    \"Alice\": 78,\n",
    "    \"bob\":45,\n",
    "    \"rownnak\":60,\n",
    "    \"Daisy\":30,\n",
    "    \"Eve\":90,\n",
    "}\n",
    "\n",
    "#Call the function\n",
    "grade_calculator(students_scores)"
   ]
  },
  {
   "cell_type": "code",
   "execution_count": 16,
   "metadata": {},
   "outputs": [
    {
     "name": "stdout",
     "output_type": "stream",
     "text": [
      "Thank you for playing\n",
      "Weelcome to the number guessing game\n",
      "I have selected a number between 1 and 100.Can you guess it?\n",
      "Number is too Low\n"
     ]
    }
   ],
   "source": [
    "# Guessing the number game \n",
    "import random\n",
    "def guessing_game():\n",
    "    print('Weelcome to the number guessing game')\n",
    "    print('I have selected a number between 1 and 100.Can you guess it?')\n",
    "    number_to_guess = random.randint(1,100)\n",
    "    attempts = 0\n",
    "    while True:\n",
    "            try:\n",
    "                user_input =int(input('Enter your guess'))\n",
    "                attempts += 1\n",
    "                if user_input<number_to_guess:\n",
    "                    print('Number is too Low')\n",
    "                elif user_input>number_to_guess:\n",
    "                    print(\"Number is too high\")\n",
    "                else: \n",
    "                    print(f'Congratulaions Idiot! you guessed in {attempts} attempts.')\n",
    "                break\n",
    "            except ValueError:\n",
    "                print('invalid input!please enter a valid integer')\n",
    "print('Thank you for playing')\n",
    "\n",
    "guessing_game()\n"
   ]
  },
  {
   "cell_type": "code",
   "execution_count": 19,
   "metadata": {},
   "outputs": [
    {
     "name": "stdout",
     "output_type": "stream",
     "text": [
      "Welcome to the Number Guessing Game!\n",
      "I have selected a number between 1 and 100. Can you guess it?\n",
      "Too low! Try again.\n",
      "Too low! Try again.\n",
      "Congratulations! You guessed it in 3 attempts.\n",
      "Thank you for playing!\n"
     ]
    }
   ],
   "source": [
    "import random\n",
    "\n",
    "def guessing_game():\n",
    "    print(\"Welcome to the Number Guessing Game!\")\n",
    "    print(\"I have selected a number between 1 and 100. Can you guess it?\")\n",
    "    \n",
    "    number_to_guess = random.randint(1, 3)\n",
    "    attempts = 0\n",
    "    \n",
    "    while True:\n",
    "        try:\n",
    "            user_input = int(input(\"Enter your guess: \"))\n",
    "            attempts += 1\n",
    "            \n",
    "            if user_input < number_to_guess:\n",
    "                print(\"Too low! Try again.\")\n",
    "            elif user_input > number_to_guess:\n",
    "                print(\"Too high! Try again.\")\n",
    "            else:\n",
    "                print(f\"Congratulations! You guessed it in {attempts} attempts.\")\n",
    "                break\n",
    "        except ValueError:\n",
    "            print(\"Invalid input! Please enter a valid integer.\")\n",
    "    \n",
    "    print(\"Thank you for playing!\")\n",
    "\n",
    "# Run the game\n",
    "guessing_game()\n"
   ]
  }
 ],
 "metadata": {
  "kernelspec": {
   "display_name": "venv",
   "language": "python",
   "name": "python3"
  },
  "language_info": {
   "codemirror_mode": {
    "name": "ipython",
    "version": 3
   },
   "file_extension": ".py",
   "mimetype": "text/x-python",
   "name": "python",
   "nbconvert_exporter": "python",
   "pygments_lexer": "ipython3",
   "version": "3.12.3"
  }
 },
 "nbformat": 4,
 "nbformat_minor": 2
}
