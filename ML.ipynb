{
 "cells": [
  {
   "cell_type": "code",
   "execution_count": 4,
   "metadata": {},
   "outputs": [],
   "source": [
    "from sklearn.datasets import load_iris\n",
    "import pandas as pd\n",
    "\n",
    "iris = load_iris()\n",
    "x = iris.data\n",
    "y = iris.target\n",
    "\n"
   ]
  },
  {
   "cell_type": "code",
   "execution_count": 12,
   "metadata": {},
   "outputs": [
    {
     "name": "stdout",
     "output_type": "stream",
     "text": [
      "Model Accuracy: 100.00%\n",
      "\n",
      "Actual vs Predicted:\n",
      "Actual: versicolor, Predicted: versicolor\n",
      "Actual: setosa, Predicted: setosa\n",
      "Actual: virginica, Predicted: virginica\n",
      "Actual: versicolor, Predicted: versicolor\n",
      "Actual: versicolor, Predicted: versicolor\n",
      "Actual: setosa, Predicted: setosa\n",
      "Actual: versicolor, Predicted: versicolor\n",
      "Actual: virginica, Predicted: virginica\n",
      "Actual: versicolor, Predicted: versicolor\n",
      "Actual: versicolor, Predicted: versicolor\n",
      "Actual: virginica, Predicted: virginica\n",
      "Actual: setosa, Predicted: setosa\n",
      "Actual: setosa, Predicted: setosa\n",
      "Actual: setosa, Predicted: setosa\n",
      "Actual: setosa, Predicted: setosa\n",
      "Actual: versicolor, Predicted: versicolor\n",
      "Actual: virginica, Predicted: virginica\n",
      "Actual: versicolor, Predicted: versicolor\n",
      "Actual: versicolor, Predicted: versicolor\n",
      "Actual: virginica, Predicted: virginica\n",
      "Actual: setosa, Predicted: setosa\n",
      "Actual: virginica, Predicted: virginica\n",
      "Actual: setosa, Predicted: setosa\n",
      "Actual: virginica, Predicted: virginica\n",
      "Actual: virginica, Predicted: virginica\n",
      "Actual: virginica, Predicted: virginica\n",
      "Actual: virginica, Predicted: virginica\n",
      "Actual: virginica, Predicted: virginica\n",
      "Actual: setosa, Predicted: setosa\n",
      "Actual: setosa, Predicted: setosa\n"
     ]
    }
   ],
   "source": [
    "# Import the necessary libraries\n",
    "import pandas as pd\n",
    "from sklearn.datasets import load_iris\n",
    "from sklearn.model_selection import train_test_split\n",
    "from sklearn.neighbors import KNeighborsClassifier\n",
    "from sklearn.metrics import accuracy_score\n",
    "\n",
    "# Load the Iris dataset\n",
    "iris = load_iris()\n",
    "X = iris.data  # Features\n",
    "y = iris.target  # Labels (0: Setosa, 1: Versicolour, 2: Virginica)\n",
    "\n",
    "# Convert to DataFrame for easier understanding (optional)\n",
    "df = pd.DataFrame(data=iris.data, columns=iris.feature_names)\n",
    "df['target'] = iris.target\n",
    "\n",
    "# Split the dataset into training and testing sets (80% train, 20% test)\n",
    "X_train, X_test, y_train, y_test = train_test_split(X, y, test_size=0.2, random_state=42)\n",
    "\n",
    "# Initialize the KNN classifier\n",
    "knn = KNeighborsClassifier(n_neighbors=3)\n",
    "\n",
    "# Train the model on the training data\n",
    "knn.fit(X_train, y_train)\n",
    "\n",
    "# Make predictions on the test data\n",
    "y_pred = knn.predict(X_test)\n",
    "\n",
    "# Evaluate the model's performance\n",
    "accuracy = accuracy_score(y_test, y_pred)\n",
    "print(f\"Model Accuracy: {accuracy * 100:.2f}%\")\n",
    "\n",
    "# Optional: Print out the actual vs predicted values to compare\n",
    "print(\"\\nActual vs Predicted:\")\n",
    "for actual, predicted in zip(y_test, y_pred):\n",
    "    print(f\"Actual: {iris.target_names[actual]}, Predicted: {iris.target_names[predicted]}\")\n"
   ]
  }
 ],
 "metadata": {
  "kernelspec": {
   "display_name": "venv",
   "language": "python",
   "name": "python3"
  },
  "language_info": {
   "codemirror_mode": {
    "name": "ipython",
    "version": 3
   },
   "file_extension": ".py",
   "mimetype": "text/x-python",
   "name": "python",
   "nbconvert_exporter": "python",
   "pygments_lexer": "ipython3",
   "version": "3.12.3"
  }
 },
 "nbformat": 4,
 "nbformat_minor": 2
}
